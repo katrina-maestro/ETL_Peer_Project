{
 "cells": [
  {
   "cell_type": "code",
   "execution_count": 1,
   "id": "47eb0168-9919-495e-a392-6cf7975f6368",
   "metadata": {},
   "outputs": [],
   "source": [
    "import glob                         # this module helps in selecting files in a directory \n",
    "import pandas as pd                 # this module helps in processing CSV files\n",
    "import xml.etree.ElementTree as ET  # this module helps in processing XML files.\n",
    "from datetime import datetime  "
   ]
  },
  {
   "cell_type": "code",
   "execution_count": 6,
   "id": "3e02e499-1465-49e9-954b-63a8b058bb04",
   "metadata": {},
   "outputs": [
    {
     "name": "stderr",
     "output_type": "stream",
     "text": [
      "  % Total    % Received % Xferd  Average Speed   Time    Time     Time  Current\n",
      "                                 Dload  Upload   Total   Spent    Left  Speed\n",
      "\n",
      "  0     0    0     0    0     0      0      0 --:--:-- --:--:-- --:--:--     0\n",
      "  0     0    0     0    0     0      0      0 --:--:-- --:--:-- --:--:--     0\n",
      "100  2815  100  2815    0     0   3364      0 --:--:-- --:--:-- --:--:--  3391\n"
     ]
    }
   ],
   "source": [
    "!curl -o \"bank_market_cap_1.json\" https://cf-courses-data.s3.us.cloud-object-storage.appdomain.cloud/IBMDeveloperSkillsNetwork-PY0221EN-SkillsNetwork/labs/module%206/Lab%20-%20Extract%20Transform%20Load/data/bank_market_cap_1.json\n"
   ]
  },
  {
   "cell_type": "code",
   "execution_count": 11,
   "id": "bbd1a618-c4d8-42ef-b2c7-43436e57004b",
   "metadata": {},
   "outputs": [
    {
     "name": "stderr",
     "output_type": "stream",
     "text": [
      "  % Total    % Received % Xferd  Average Speed   Time    Time     Time  Current\n",
      "                                 Dload  Upload   Total   Spent    Left  Speed\n",
      "\n",
      "  0     0    0     0    0     0      0      0 --:--:-- --:--:-- --:--:--     0\n",
      "  0     0    0     0    0     0      0      0 --:--:-- --:--:-- --:--:--     0\n",
      "100  1429  100  1429    0     0   1497      0 --:--:-- --:--:-- --:--:--  1502\n"
     ]
    }
   ],
   "source": [
    "!curl -o \"bank_market_cap_2.json\" https://cf-courses-data.s3.us.cloud-object-storage.appdomain.cloud/IBMDeveloperSkillsNetwork-PY0221EN-SkillsNetwork/labs/module%206/Lab%20-%20Extract%20Transform%20Load/data/bank_market_cap_2.json\n"
   ]
  },
  {
   "cell_type": "code",
   "execution_count": 8,
   "id": "65712443-bb8f-4690-a92a-f847a9494f3d",
   "metadata": {},
   "outputs": [
    {
     "name": "stderr",
     "output_type": "stream",
     "text": [
      "  % Total    % Received % Xferd  Average Speed   Time    Time     Time  Current\n",
      "                                 Dload  Upload   Total   Spent    Left  Speed\n",
      "\n",
      "  0     0    0     0    0     0      0      0 --:--:-- --:--:-- --:--:--     0\n",
      "  0     0    0     0    0     0      0      0 --:--:--  0:00:01 --:--:--     0\n",
      "100   590  100   590    0     0    366      0  0:00:01  0:00:01 --:--:--   366\n"
     ]
    }
   ],
   "source": [
    "!curl -o \"exchange_rates.csv\"  https://cf-courses-data.s3.us.cloud-object-storage.appdomain.cloud/IBMDeveloperSkillsNetwork-PY0221EN-SkillsNetwork/labs/module%206/Final%20Assignment/exchange_rates.csv"
   ]
  },
  {
   "cell_type": "code",
   "execution_count": 9,
   "id": "841eb1b2-efea-4133-9842-389d987af95b",
   "metadata": {},
   "outputs": [],
   "source": [
    "#loading the data from the saved json file into a dataframe\n",
    "def extract_json_file(file_to_extract):\n",
    "    dataframe= pd.read_json(file_to_extract, lines = True)\n",
    "    return dataframe \n"
   ]
  },
  {
   "cell_type": "code",
   "execution_count": 99,
   "id": "f5a26842-01c4-4038-a639-38c663981abb",
   "metadata": {},
   "outputs": [],
   "source": [
    "\n",
    "def extract_files():\n",
    "    \n",
    "    extracted_data= pd.DataFrame(columns=['Name','Market Cap (US$ Billion)'])\n",
    "    # adding in all the json files to the dataframe \n",
    "    for jsonfile in glob.glob(\"bank_market_cap_1.json\"):\n",
    "        extracted_data = extracted_data._append(extract_json_file(jsonfile),ignore_index=True)\n",
    "    \n",
    "    return extracted_data"
   ]
  },
  {
   "cell_type": "code",
   "execution_count": 10,
   "id": "4e3ee618-31b9-4222-8652-8a1017977460",
   "metadata": {},
   "outputs": [],
   "source": [
    "#loading the data from the saved csv file into a dataframe\n",
    "def extract_csv_file(file_to_extract):\n",
    "    dataframe= pd.read_csv(file_to_extract)\n",
    "    return dataframe \n"
   ]
  },
  {
   "cell_type": "code",
   "execution_count": 65,
   "id": "0253ade4-28a5-4dc1-848f-e1bfcb1ed531",
   "metadata": {},
   "outputs": [
    {
     "data": {
      "text/html": [
       "<div>\n",
       "<style scoped>\n",
       "    .dataframe tbody tr th:only-of-type {\n",
       "        vertical-align: middle;\n",
       "    }\n",
       "\n",
       "    .dataframe tbody tr th {\n",
       "        vertical-align: top;\n",
       "    }\n",
       "\n",
       "    .dataframe thead th {\n",
       "        text-align: right;\n",
       "    }\n",
       "</style>\n",
       "<table border=\"1\" class=\"dataframe\">\n",
       "  <thead>\n",
       "    <tr style=\"text-align: right;\">\n",
       "      <th></th>\n",
       "      <th>Unnamed: 0</th>\n",
       "      <th>Rates</th>\n",
       "    </tr>\n",
       "  </thead>\n",
       "  <tbody>\n",
       "    <tr>\n",
       "      <th>31</th>\n",
       "      <td>USD</td>\n",
       "      <td>1.0</td>\n",
       "    </tr>\n",
       "  </tbody>\n",
       "</table>\n",
       "</div>"
      ],
      "text/plain": [
       "   Unnamed: 0  Rates\n",
       "31        USD    1.0"
      ]
     },
     "execution_count": 65,
     "metadata": {},
     "output_type": "execute_result"
    }
   ],
   "source": [
    "exchange_rate_USD = exch_dataframe.loc[exch_dataframe.iloc[:,0]==\"USD\"]\n",
    "exchange_rate_USD"
   ]
  },
  {
   "cell_type": "code",
   "execution_count": 102,
   "id": "dc519528-9d3d-4f79-843a-5f78e8f479c5",
   "metadata": {},
   "outputs": [
    {
     "data": {
      "text/html": [
       "<div>\n",
       "<style scoped>\n",
       "    .dataframe tbody tr th:only-of-type {\n",
       "        vertical-align: middle;\n",
       "    }\n",
       "\n",
       "    .dataframe tbody tr th {\n",
       "        vertical-align: top;\n",
       "    }\n",
       "\n",
       "    .dataframe thead th {\n",
       "        text-align: right;\n",
       "    }\n",
       "</style>\n",
       "<table border=\"1\" class=\"dataframe\">\n",
       "  <thead>\n",
       "    <tr style=\"text-align: right;\">\n",
       "      <th></th>\n",
       "      <th>Unnamed: 0</th>\n",
       "      <th>Rates</th>\n",
       "    </tr>\n",
       "  </thead>\n",
       "  <tbody>\n",
       "    <tr>\n",
       "      <th>9</th>\n",
       "      <td>GBP</td>\n",
       "      <td>0.732398</td>\n",
       "    </tr>\n",
       "  </tbody>\n",
       "</table>\n",
       "</div>"
      ],
      "text/plain": [
       "  Unnamed: 0     Rates\n",
       "9        GBP  0.732398"
      ]
     },
     "execution_count": 102,
     "metadata": {},
     "output_type": "execute_result"
    }
   ],
   "source": [
    "#finding the exchange rate for the pound\n",
    "exchange_rate = exch_dataframe.loc[exch_dataframe.iloc[:,0]==\"GBP\"]\n",
    "exchange_rate"
   ]
  },
  {
   "cell_type": "code",
   "execution_count": 104,
   "id": "ea382bf0-db46-4fb0-a64e-558f966c2a31",
   "metadata": {},
   "outputs": [],
   "source": [
    "def transform_marketcap(df):\n",
    "    df.iloc[:,1]=df.iloc[:,1].astype(float) \n",
    "    df.iloc[:,1]=round( df.iloc[:,1]*0.732398,3)\n",
    "    df.columns= ['Name','Market Cap (GBP £ Billion)']   \n",
    "    return df\n"
   ]
  },
  {
   "cell_type": "code",
   "execution_count": 12,
   "id": "fc9246af-0894-433c-8296-9ed13331b398",
   "metadata": {},
   "outputs": [],
   "source": [
    "#setting file paths for the extracted data \n",
    "tmpfile    = \"temp.tmp\"               # file used to store all extracted data\n",
    "logfile    = \"logfile.txt\"            # all event logs will be stored in this file\n",
    "targetfile = \"transformed_data.csv\"   # file where transformed data is stored"
   ]
  },
  {
   "cell_type": "code",
   "execution_count": 91,
   "id": "506213f0-7de1-4113-8393-d9aa57d981dd",
   "metadata": {},
   "outputs": [],
   "source": [
    "def load(dataframe, target_file):\n",
    "    target_file = dataframe.to_csv() \n",
    "    return target_file"
   ]
  },
  {
   "cell_type": "code",
   "execution_count": 92,
   "id": "18383974-a784-4cd6-90d2-5c1eddf11c34",
   "metadata": {},
   "outputs": [],
   "source": [
    "#logging tool \n",
    "def log_now(message):\n",
    "    timestamp_format = '%Y-%m-%d-%H:%M:%S'\n",
    "    now = datetime.now() #current timestamp \n",
    "    timestamp= now.strftime( timestamp_format)  #strftime method is used to convert the now timestamp into our desired format\n",
    "    with open(\"logfile.txt\",\"a\") as f:\n",
    "        f.write( timestamp + ',' + message + '\\n')"
   ]
  },
  {
   "cell_type": "code",
   "execution_count": 112,
   "id": "d3859feb-0573-4e70-9011-c3f31aa054aa",
   "metadata": {},
   "outputs": [],
   "source": [
    "log_now(\"ETL Job Started\")"
   ]
  },
  {
   "cell_type": "code",
   "execution_count": 113,
   "id": "69be7495-b8aa-4402-a226-fc23f73f332e",
   "metadata": {},
   "outputs": [],
   "source": [
    "log_now(\"Extraction Phase Started\")"
   ]
  },
  {
   "cell_type": "code",
   "execution_count": 114,
   "id": "409ff3f0-7358-4107-baab-844eb5448871",
   "metadata": {},
   "outputs": [
    {
     "data": {
      "text/html": [
       "<div>\n",
       "<style scoped>\n",
       "    .dataframe tbody tr th:only-of-type {\n",
       "        vertical-align: middle;\n",
       "    }\n",
       "\n",
       "    .dataframe tbody tr th {\n",
       "        vertical-align: top;\n",
       "    }\n",
       "\n",
       "    .dataframe thead th {\n",
       "        text-align: right;\n",
       "    }\n",
       "</style>\n",
       "<table border=\"1\" class=\"dataframe\">\n",
       "  <thead>\n",
       "    <tr style=\"text-align: right;\">\n",
       "      <th></th>\n",
       "      <th>Name</th>\n",
       "      <th>Market Cap (US$ Billion)</th>\n",
       "    </tr>\n",
       "  </thead>\n",
       "  <tbody>\n",
       "    <tr>\n",
       "      <th>0</th>\n",
       "      <td>JPMorgan Chase</td>\n",
       "      <td>390.934</td>\n",
       "    </tr>\n",
       "    <tr>\n",
       "      <th>1</th>\n",
       "      <td>Industrial and Commercial Bank of China</td>\n",
       "      <td>345.214</td>\n",
       "    </tr>\n",
       "    <tr>\n",
       "      <th>2</th>\n",
       "      <td>Bank of America</td>\n",
       "      <td>325.331</td>\n",
       "    </tr>\n",
       "    <tr>\n",
       "      <th>3</th>\n",
       "      <td>Wells Fargo</td>\n",
       "      <td>308.013</td>\n",
       "    </tr>\n",
       "    <tr>\n",
       "      <th>4</th>\n",
       "      <td>China Construction Bank</td>\n",
       "      <td>257.399</td>\n",
       "    </tr>\n",
       "  </tbody>\n",
       "</table>\n",
       "</div>"
      ],
      "text/plain": [
       "                                      Name  Market Cap (US$ Billion)\n",
       "0                           JPMorgan Chase                   390.934\n",
       "1  Industrial and Commercial Bank of China                   345.214\n",
       "2                          Bank of America                   325.331\n",
       "3                              Wells Fargo                   308.013\n",
       "4                  China Construction Bank                   257.399"
      ]
     },
     "execution_count": 114,
     "metadata": {},
     "output_type": "execute_result"
    }
   ],
   "source": [
    "bank_market_df = extract_files()\n",
    "bank_market_df.head()"
   ]
  },
  {
   "cell_type": "code",
   "execution_count": 115,
   "id": "d49c79bb",
   "metadata": {},
   "outputs": [],
   "source": [
    "log_now(\"Extraction Phase Ended\")"
   ]
  },
  {
   "cell_type": "code",
   "execution_count": 116,
   "id": "2bf36af6",
   "metadata": {},
   "outputs": [],
   "source": [
    "log_now(\"Transformation Phase Started\")"
   ]
  },
  {
   "cell_type": "code",
   "execution_count": 117,
   "id": "1b181647-3305-48ad-99e9-70a376e71a21",
   "metadata": {},
   "outputs": [
    {
     "data": {
      "text/html": [
       "<div>\n",
       "<style scoped>\n",
       "    .dataframe tbody tr th:only-of-type {\n",
       "        vertical-align: middle;\n",
       "    }\n",
       "\n",
       "    .dataframe tbody tr th {\n",
       "        vertical-align: top;\n",
       "    }\n",
       "\n",
       "    .dataframe thead th {\n",
       "        text-align: right;\n",
       "    }\n",
       "</style>\n",
       "<table border=\"1\" class=\"dataframe\">\n",
       "  <thead>\n",
       "    <tr style=\"text-align: right;\">\n",
       "      <th></th>\n",
       "      <th>Name</th>\n",
       "      <th>Market Cap (GBP £ Billion)</th>\n",
       "    </tr>\n",
       "  </thead>\n",
       "  <tbody>\n",
       "    <tr>\n",
       "      <th>0</th>\n",
       "      <td>JPMorgan Chase</td>\n",
       "      <td>286.319</td>\n",
       "    </tr>\n",
       "    <tr>\n",
       "      <th>1</th>\n",
       "      <td>Industrial and Commercial Bank of China</td>\n",
       "      <td>252.834</td>\n",
       "    </tr>\n",
       "    <tr>\n",
       "      <th>2</th>\n",
       "      <td>Bank of America</td>\n",
       "      <td>238.272</td>\n",
       "    </tr>\n",
       "    <tr>\n",
       "      <th>3</th>\n",
       "      <td>Wells Fargo</td>\n",
       "      <td>225.588</td>\n",
       "    </tr>\n",
       "    <tr>\n",
       "      <th>4</th>\n",
       "      <td>China Construction Bank</td>\n",
       "      <td>188.519</td>\n",
       "    </tr>\n",
       "  </tbody>\n",
       "</table>\n",
       "</div>"
      ],
      "text/plain": [
       "                                      Name  Market Cap (GBP £ Billion)\n",
       "0                           JPMorgan Chase                     286.319\n",
       "1  Industrial and Commercial Bank of China                     252.834\n",
       "2                          Bank of America                     238.272\n",
       "3                              Wells Fargo                     225.588\n",
       "4                  China Construction Bank                     188.519"
      ]
     },
     "execution_count": 117,
     "metadata": {},
     "output_type": "execute_result"
    }
   ],
   "source": [
    "bank_market_df = transform_marketcap(bank_market_df)\n",
    "bank_market_df.head()"
   ]
  },
  {
   "cell_type": "code",
   "execution_count": 118,
   "id": "6c92fe55",
   "metadata": {},
   "outputs": [],
   "source": [
    "log_now(\"Transformation Phase Ended\")"
   ]
  },
  {
   "cell_type": "code",
   "execution_count": 119,
   "id": "d209a65e-fb3e-44b3-8701-749deb5ff39c",
   "metadata": {},
   "outputs": [],
   "source": [
    "log_now(\"Load Phase Started\")"
   ]
  },
  {
   "cell_type": "code",
   "execution_count": 120,
   "id": "9be04fb1-b4bd-41a1-a1e2-5102c55a0530",
   "metadata": {},
   "outputs": [],
   "source": [
    "#loading the csv into a pd dataframe \n",
    "exch_dataframe = extract_csv_file(\"exchange_rates.csv\")\n",
    "bank_market_cap_gpb = load(exch_dataframe,targetfile)\n"
   ]
  },
  {
   "cell_type": "code",
   "execution_count": 121,
   "id": "bdfe33c1-4759-437d-8679-90ba03030bfd",
   "metadata": {},
   "outputs": [],
   "source": [
    "log_now(\"Load Phase Ended\")"
   ]
  },
  {
   "cell_type": "code",
   "execution_count": null,
   "id": "54e159c0-41f1-4ef1-bd7e-c355e1d1d6af",
   "metadata": {},
   "outputs": [],
   "source": []
  }
 ],
 "metadata": {
  "kernelspec": {
   "display_name": "Python 3 (ipykernel)",
   "language": "python",
   "name": "python3"
  },
  "language_info": {
   "codemirror_mode": {
    "name": "ipython",
    "version": 3
   },
   "file_extension": ".py",
   "mimetype": "text/x-python",
   "name": "python",
   "nbconvert_exporter": "python",
   "pygments_lexer": "ipython3",
   "version": "3.11.4"
  }
 },
 "nbformat": 4,
 "nbformat_minor": 5
}
